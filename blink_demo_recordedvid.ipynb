{
 "cells": [
  {
   "cell_type": "code",
   "execution_count": 1,
   "metadata": {},
   "outputs": [],
   "source": [
    "import cv2\n",
    "import matplotlib.pyplot as plt\n",
    "import pandas as pd\n",
    "import numpy as np\n",
    "import math\n",
    "\n",
    "import tensorflow as tf\n",
    "from tensorflow import keras\n",
    "from tensorflow.keras import layers\n",
    "\n",
    "from ultralytics import YOLO"
   ]
  },
  {
   "cell_type": "code",
   "execution_count": 2,
   "metadata": {},
   "outputs": [
    {
     "data": {
      "text/plain": [
       "[PhysicalDevice(name='/physical_device:GPU:0', device_type='GPU')]"
      ]
     },
     "execution_count": 2,
     "metadata": {},
     "output_type": "execute_result"
    }
   ],
   "source": [
    "tf.config.list_physical_devices('GPU')"
   ]
  },
  {
   "cell_type": "code",
   "execution_count": 3,
   "metadata": {},
   "outputs": [],
   "source": [
    "IMG_SIZE = 24\n",
    "FRAME = 10\n",
    "BATCH_SIZE = 1\n",
    "CHANNEL = 5\n",
    "# DATA_GROUP_TIME = 1 # time (in seconds) in which all EEG attention data and blink rate data will be grouped in order to be compared\n",
    "SAMPLING_WINDOW_TIME = 1 # window of time (in seconds) in which samples will be taken from to calculate blink probability\n",
    "SAMPLE_NUM = 2 # number of samples that will be taken from the sampling window\n",
    "OVERLAP_FRAMES = 0 # number of frames that will be overlapped when creating sequence\n",
    "PRED_MODE = 'or' # 'or', 'and', 'average': mode in which the predictions of both eyes will be combined to make blink prediction\n",
    "\n",
    "if ((SAMPLING_WINDOW_TIME*30-FRAME)/SAMPLE_NUM)<1:\n",
    "    print(\"ERROR! SAMPLE_NUM and FRAME too great compared to SAMPLING_WINDOW_TIME!\")"
   ]
  },
  {
   "cell_type": "code",
   "execution_count": 4,
   "metadata": {},
   "outputs": [],
   "source": [
    "MODEL  = './yolov8n-face.pt' # load yolo model\n",
    "model_y = YOLO(MODEL)\n",
    "\n",
    "best_model = keras.models.load_model('./model/VIT_1') # load vit model"
   ]
  },
  {
   "cell_type": "markdown",
   "metadata": {},
   "source": [
    "# V2. get both blink prediction and attention score from one inference of combined model"
   ]
  },
  {
   "cell_type": "code",
   "execution_count": 5,
   "metadata": {},
   "outputs": [
    {
     "data": {
      "text/plain": [
       "5"
      ]
     },
     "execution_count": 5,
     "metadata": {},
     "output_type": "execute_result"
    }
   ],
   "source": [
    "# calculate sampling step from sampling window time, number of frames in sequence, and sample number OR manually set sampling step\n",
    "# samp_step=int((SAMPLING_WINDOW_TIME*30-FRAME)/SAMPLE_NUM) # calculate samp_step from other variables\n",
    "samp_step=5 # manually set samp_step\n",
    "\n",
    "samp_step"
   ]
  },
  {
   "cell_type": "code",
   "execution_count": 6,
   "metadata": {},
   "outputs": [],
   "source": [
    "PRED_MODE = 'average' # 'or', 'and', 'average': mode in which the predictions of both eyes will be combined to make blink prediction"
   ]
  },
  {
   "cell_type": "code",
   "execution_count": 7,
   "metadata": {},
   "outputs": [],
   "source": [
    "# Extract the layer that provides attention scores\n",
    "attention_layer = best_model.layers[-8].output  # Adjust based on your model architecture\n",
    "\n",
    "# Create a new model that outputs both the blink prediction and attention scores\n",
    "combined_model = tf.keras.Model(inputs=best_model.input, outputs=[best_model.output, attention_layer])"
   ]
  },
  {
   "cell_type": "code",
   "execution_count": 8,
   "metadata": {},
   "outputs": [],
   "source": [
    "# Function for image preprocessing\n",
    "\n",
    "@tf.function\n",
    "def get_img(img, mode='test', trans = [0, 2, 1, 3]):\n",
    "    \n",
    "    # img = tf.io.read_file(path)\n",
    "    img = tf.image.decode_jpeg(img, channels=3)\n",
    "    img = tf.image.rgb_to_grayscale(img)\n",
    "\n",
    "    if mode =='train':\n",
    "        img = tf.image.random_flip_left_right(img)\n",
    "        \n",
    "    img = tf.image.convert_image_dtype(img, tf.float32)\n",
    "    img = tf.image.per_image_standardization(img)\n",
    "\n",
    "    img = tf.image.resize(img, (IMG_SIZE, IMG_SIZE*FRAME))\n",
    "    img = tf.reshape(img, (IMG_SIZE, FRAME,IMG_SIZE, 1))\n",
    "    img = tf.transpose(img, trans)\n",
    "    \n",
    "    img2 = (img - img[:,:,0:1, :]) # residual embedding\n",
    "    img3 = (img - img[:,:,9:, :])\n",
    "    img4 = (img - img[:,:,4:5, :])\n",
    "    img5 = (img - img[:,:,5:6, :])\n",
    "\n",
    "    return tf.concat([img, img2, img3, img4, img5], axis=-1)"
   ]
  },
  {
   "cell_type": "code",
   "execution_count": 9,
   "metadata": {},
   "outputs": [],
   "source": [
    "# Functions for processing of images, coordinates, and outputs\n",
    "\n",
    "# take output of YOLOv8 face and turn it into eye location coordinates\n",
    "def getcoord(output):\n",
    "\n",
    "    detection_count=output[0].boxes.shape[0] # check if landmarks were detected\n",
    "    if detection_count != 0: # if something was detected:\n",
    "        keypoints=output[0].keypoints.cpu().numpy() # get keypoints from results (facial landmarks)\n",
    "        if max(keypoints.conf.sum(axis=1))>3.5:\n",
    "            # keypoints=result.keypoints.numpy() # get keypoints from results (facial landmarks)\n",
    "            keep_faceidx=np.argmax(keypoints.conf.sum(axis=1)) # in the case where there are multiple faces in image, get index of face with maximum confidence\n",
    "            keypoints=keypoints[keep_faceidx] # keep only keypoints of face with maximum confidence\n",
    "\n",
    "            coords=[(x,y,z) for x,y,z in keypoints.data[0]] # get all 5 landmark coordinates (eyes, nose, mouth) from keypoints.xy; keypoints.xy[0] is index 0 because it has an extra list layer on the outside\n",
    "            # total_.append(coords[:2]) # append coordinates to list\n",
    "            out_coords=coords[:2]\n",
    "        else:\n",
    "            out_coords=[(0,0,0),(0,0,0)]\n",
    "    else:\n",
    "        out_coords=[(0,0,0),(0,0,0)]\n",
    "\n",
    "    # return total_\n",
    "    return out_coords\n",
    "\n",
    "# function: input=single rgb image,coordinates for both eye POINTS (not boxes) (ex. [(x1,y1,z1),(x2,y2,z2)]); output=cropped eye region images (two: one left and one right)\n",
    "def crop(img,coords):\n",
    "    img_h=np.shape(img)[0]\n",
    "    img_w=np.shape(img)[1]\n",
    "\n",
    "    eye_dist=math.dist(coords[0],coords[1])\n",
    "    point_x1=coords[0][0]\n",
    "    point_y1=coords[0][1]\n",
    "    point_x2=coords[1][0]\n",
    "    point_y2=coords[1][1]\n",
    "\n",
    "    roi_l=img[int(point_y1)-int(eye_dist/3):int(point_y1)+int(eye_dist/3),int(point_x1)-int(eye_dist/3):int(point_x1)+int(eye_dist/3)]\n",
    "    roi_r=img[int(point_y2)-int(eye_dist/3):int(point_y2)+int(eye_dist/3),int(point_x2)-int(eye_dist/3):int(point_x2)+int(eye_dist/3)]\n",
    "\n",
    "    return roi_r, roi_l\n",
    "\n",
    "# take eye images in sequence and concat them into one long image\n",
    "def concat_imgs(seq_list):\n",
    "    resz_shape_r=np.shape(seq_list[0][0])[0:2]\n",
    "    resz_shape_l=np.shape(seq_list[0][1])[0:2]\n",
    "\n",
    "    r_list=[]\n",
    "    l_list=[]\n",
    "    for eyes_set in seq_list:\n",
    "        r_img=cv2.resize(eyes_set[0],dsize=resz_shape_r,interpolation=cv2.INTER_AREA)\n",
    "        l_img=cv2.resize(eyes_set[1],dsize=resz_shape_l,interpolation=cv2.INTER_AREA)\n",
    "\n",
    "        r_list.append(r_img)\n",
    "        l_list.append(l_img)\n",
    "    \n",
    "    r_seqimg=np.hstack(r_list)\n",
    "    l_seqimg=np.hstack(l_list)\n",
    "\n",
    "    return r_seqimg,l_seqimg\n",
    "\n",
    "def get_blink_and_att(r_img, l_img, model, pred_mode):\n",
    "\n",
    "    r_enc=tf.io.encode_jpeg(r_img) # encode images\n",
    "    l_enc=tf.io.encode_jpeg(l_img)\n",
    "\n",
    "    r_dec=get_img(r_enc) # preprocess images\n",
    "    l_dec=get_img(l_enc)\n",
    "\n",
    "    # get prediction values and multi head attention for decoded image sequences\n",
    "    r_pred, r_att = model.predict(tf.reshape(r_dec, [1, 24, 24, 10, 5]))\n",
    "    l_pred, l_att = model.predict(tf.reshape(l_dec, [1, 24, 24, 10, 5]))\n",
    "\n",
    "    r_blink_pred = tf.nn.sigmoid(r_pred).numpy().ravel()[0]\n",
    "    l_blink_pred = tf.nn.sigmoid(l_pred).numpy().ravel()[0]\n",
    "\n",
    "    # calculate blink prediction (0 or 1)\n",
    "    if pred_mode == 'or':\n",
    "        if r_blink_pred > 0.5 or l_blink_pred > 0.5:\n",
    "            blink_pred = 1\n",
    "        else:\n",
    "            blink_pred = 0\n",
    "    elif pred_mode == 'and':\n",
    "        if r_blink_pred > 0.5 and l_blink_pred > 0.5:\n",
    "            blink_pred = 1\n",
    "        else:\n",
    "            blink_pred = 0\n",
    "    elif pred_mode == 'average':\n",
    "        if ((r_blink_pred + l_blink_pred) / 2) > 0.5:\n",
    "            blink_pred = 1\n",
    "        else:\n",
    "            blink_pred = 0\n",
    "\n",
    "    # calculate attention score\n",
    "    r_att_t = r_att[1][0, 0, :, :].sum(axis=0).reshape(2, 2, 10)\n",
    "    r_att_t2 = r_att[1][0, 1, :, :].sum(axis=0).reshape(2, 2, 10)\n",
    "    r_att_t_ = r_att_t.reshape((-1, 10)).sum(axis=0)\n",
    "    r_att_t2_ = r_att_t2.reshape((-1, 10)).sum(axis=0)\n",
    "    r_avg = (r_att_t_ + r_att_t2_) / 2\n",
    "    l_att_t = l_att[1][0, 0, :, :].sum(axis=0).reshape(2, 2, 10)\n",
    "    l_att_t2 = l_att[1][0, 1, :, :].sum(axis=0).reshape(2, 2, 10)\n",
    "    l_att_t_ = l_att_t.reshape((-1, 10)).sum(axis=0)\n",
    "    l_att_t2_ = l_att_t2.reshape((-1, 10)).sum(axis=0)\n",
    "    l_avg = (l_att_t_ + l_att_t2_) / 2\n",
    "\n",
    "    return blink_pred, r_avg, l_avg\n",
    "\n"
   ]
  },
  {
   "cell_type": "code",
   "execution_count": 10,
   "metadata": {},
   "outputs": [
    {
     "name": "stdout",
     "output_type": "stream",
     "text": [
      "1/1 [==============================] - 0s 150ms/step\n",
      "1/1 [==============================] - 0s 16ms/step\n",
      "1/1 [==============================] - 0s 13ms/step\n",
      "1/1 [==============================] - 0s 14ms/step\n",
      "1/1 [==============================] - 0s 13ms/step\n",
      "1/1 [==============================] - 0s 13ms/step\n",
      "1/1 [==============================] - 0s 12ms/step\n",
      "1/1 [==============================] - 0s 12ms/step\n",
      "1/1 [==============================] - 0s 12ms/step\n",
      "1/1 [==============================] - 0s 13ms/step\n",
      "1/1 [==============================] - 0s 12ms/step\n",
      "1/1 [==============================] - 0s 11ms/step\n",
      "1/1 [==============================] - 0s 12ms/step\n",
      "1/1 [==============================] - 0s 12ms/step\n",
      "1/1 [==============================] - 0s 12ms/step\n",
      "1/1 [==============================] - 0s 12ms/step\n",
      "1/1 [==============================] - 0s 20ms/step\n",
      "1/1 [==============================] - 0s 12ms/step\n",
      "1/1 [==============================] - 0s 13ms/step\n",
      "1/1 [==============================] - 0s 13ms/step\n",
      "1/1 [==============================] - 0s 12ms/step\n",
      "1/1 [==============================] - 0s 12ms/step\n",
      "1/1 [==============================] - 0s 12ms/step\n",
      "1/1 [==============================] - 0s 12ms/step\n",
      "1/1 [==============================] - 0s 13ms/step\n",
      "1/1 [==============================] - 0s 13ms/step\n",
      "1/1 [==============================] - 0s 12ms/step\n",
      "1/1 [==============================] - 0s 12ms/step\n",
      "1/1 [==============================] - 0s 12ms/step\n",
      "1/1 [==============================] - 0s 12ms/step\n",
      "1/1 [==============================] - 0s 13ms/step\n",
      "1/1 [==============================] - 0s 14ms/step\n",
      "1/1 [==============================] - 0s 12ms/step\n",
      "1/1 [==============================] - 0s 12ms/step\n",
      "1/1 [==============================] - 0s 12ms/step\n",
      "1/1 [==============================] - 0s 12ms/step\n",
      "1/1 [==============================] - 0s 13ms/step\n",
      "1/1 [==============================] - 0s 12ms/step\n",
      "1/1 [==============================] - 0s 12ms/step\n",
      "1/1 [==============================] - 0s 12ms/step\n",
      "1/1 [==============================] - 0s 12ms/step\n",
      "1/1 [==============================] - 0s 13ms/step\n",
      "overlap! previous sequence's blink frame is the same one as current sequence's blink frame\n"
     ]
    }
   ],
   "source": [
    "# run program on pre recorded video v2\n",
    "\n",
    "if FRAME>samp_step: # calculate number of overlapping frames\n",
    "    overlap_fr=FRAME-samp_step\n",
    "else:\n",
    "    overlap_fr=0\n",
    "\n",
    "framecount=1 # frame number of user video\n",
    "breakflag=0 # flag to terminate program\n",
    "discardflag=0 # flag to indicate to discard current frame\n",
    "seq_list=[] # list of images to go in sequence\n",
    "\n",
    "# current and previous values for which frame of the image sequence the blink frame is, derived from attention score output from sub_model\n",
    "cur_blframeno=0\n",
    "prev_blframeno=0\n",
    "\n",
    "test_vid=cv2.VideoCapture('blink_testvid.MOV') # change to path to your video\n",
    "success, image=test_vid.read() # read first frame\n",
    "\n",
    "while success: # while capture is success\n",
    "    output=model_y(image,verbose=False) # put image through YOLO model\n",
    "    eye_coords=getcoord(output) # get coordinates of eyes\n",
    "    \n",
    "    if math.dist(eye_coords[0],eye_coords[1])<30: # if distance between eyes is less than 30, aka. the user is completely facing sideways, getcoord output zeros function, or YOLO did not properly find eye keypoints\n",
    "        discardflag=1 # discard flag set\n",
    "        cv2.putText(image,'ERROR!!!!!!!!!',(50,100),cv2.FONT_HERSHEY_PLAIN,2,(255,0,0),2)\n",
    "    \n",
    "    if discardflag==0: # if discard flag is not set, aka. coordinates were properly obtained\n",
    "        # if ((framecount-1)%samp_step)<=(FRAME-1): # if frame number is within sampling zone\n",
    "        if True:\n",
    "            crop_r,crop_l=crop(image.copy(),eye_coords) # crop the image according to coordinates\n",
    "\n",
    "            for r_sh in np.shape(crop_r):\n",
    "                if r_sh==0:\n",
    "                    discardflag=1\n",
    "                    seq_list=[]\n",
    "            \n",
    "            for l_sh in np.shape(crop_l):\n",
    "                if l_sh==0:\n",
    "                    discardflag=1\n",
    "                    seq_list=[]\n",
    "\n",
    "            seq_list+=[[crop_r,crop_l]] # append cropped eye images to sequence list\n",
    "\n",
    "        if len(seq_list)==FRAME:\n",
    "            r_img,l_img=concat_imgs(seq_list) # concat all 10 images into one long image\n",
    "\n",
    "            # blink_pred=get_blink(r_img,l_img,best_model,PRED_MODE) # make prediction about blink\n",
    "            # r_att, l_att=get_att(r_img,l_img,sub_model) # make attention values for each eye image sequence\n",
    "            blink_pred, r_att, l_att = get_blink_and_att(r_img, l_img, combined_model, PRED_MODE)\n",
    "            r_blfrno=np.argmax(r_att)+1\n",
    "            l_blfrno=np.argmax(l_att)+1\n",
    "            cur_blframeno=np.round((r_blfrno+l_blfrno)/2).astype(np.int64)\n",
    "            if blink_pred==1 and overlap_fr>0 and abs((prev_blframeno-samp_step)-cur_blframeno) <= 2: # (only applies when there are overlapping frames) consider current sequence not blink if the blink frame from previous sequence is the same one as current blink frame (don't duplicate blink labels)\n",
    "                blink_pred=0\n",
    "                print(\"overlap! previous sequence's blink frame is the same one as current sequence's blink frame\")\n",
    "\n",
    "            cv2.putText(image,\"blink: \"+str(blink_pred),(50,300),cv2.FONT_HERSHEY_PLAIN,2,(0,0,255),2)\n",
    "            if blink_pred==1:\n",
    "                cv2.putText(image,f\"blink frame number: {cur_blframeno}\",(50, 500),cv2.FONT_HERSHEY_PLAIN,2,(0,0,255),2)\n",
    "                prev_blframeno=cur_blframeno # set previous blink frame number\n",
    "\n",
    "            cv2.imshow(\"right eye\",r_img)\n",
    "            cv2.imshow(\"left eye\",l_img)\n",
    "\n",
    "            seq_list=seq_list[(10-overlap_fr):] # discard 10 - number of overlapping frames, so that we can collect more frames to add to the previous overlapping frames\n",
    "\n",
    "\n",
    "    else: # if discardflag is set\n",
    "        seq_list=[] # empty sequence list\n",
    "        cv2.putText(image,\"discard\",(500,300),cv2.FONT_HERSHEY_PLAIN,2,(0,0,255),2)\n",
    "\n",
    "    if ((framecount-1)%samp_step)<=(FRAME-1):\n",
    "        cv2.putText(image,\"In sampling zone\",(np.shape(image)[1]//2,np.shape(image)[0]//2),cv2.FONT_HERSHEY_PLAIN,2,(0,255,0),2)\n",
    "        cv2.putText(image, \"Number of images sampled: \"+str((framecount)%samp_step),(50,400),cv2.FONT_HERSHEY_PLAIN,2,(255,0,0),2)\n",
    "\n",
    "    framecount+=1 # increment frame number\n",
    "    if ((framecount)%samp_step)==1: # (FRAME WHERE SAMPLING ZONES START): if current frame enters next sampling zone, set discard flag to 0\n",
    "        discardflag=0\n",
    "    \n",
    "    cv2.imshow(\"testframe\",image)\n",
    "    success, image = test_vid.read() # read frame from video\n",
    "\n",
    "    pressedKey=cv2.waitKey(-1) & 0xFF\n",
    "    if pressedKey==ord('q'):\n",
    "        breakflag=1\n",
    "        break\n",
    "\n",
    "cv2.destroyAllWindows()"
   ]
  },
  {
   "cell_type": "code",
   "execution_count": 11,
   "metadata": {},
   "outputs": [
    {
     "data": {
      "image/png": "[encoded data removed]",
      "text/plain": [
       "<Figure size 640x480 with 1 Axes>"
      ]
     },
     "metadata": {},
     "output_type": "display_data"
    },
    {
     "data": {
      "image/png": "[encoded data removed]",
      "text/plain": [
       "<Figure size 640x480 with 1 Axes>"
      ]
     },
     "metadata": {},
     "output_type": "display_data"
    }
   ],
   "source": [
    "# visualize attention score\n",
    "plt.imshow(cv2.cvtColor(r_img,cv2.COLOR_BGR2RGB))\n",
    "plt.title(\"right eye image sequence\")\n",
    "plt.show()\n",
    "plt.plot(range(1, len(r_att) + 1), r_att, 'r')\n",
    "plt.title(\"attention score\")\n",
    "plt.show()"
   ]
  },
  {
   "cell_type": "code",
   "execution_count": null,
   "metadata": {},
   "outputs": [],
   "source": []
  },
  {
   "cell_type": "code",
   "execution_count": null,
   "metadata": {},
   "outputs": [],
   "source": []
  }
 ],
 "metadata": {
  "kernelspec": {
   "display_name": "py3",
   "language": "python",
   "name": "python3"
  },
  "language_info": {
   "codemirror_mode": {
    "name": "ipython",
    "version": 3
   },
   "file_extension": ".py",
   "mimetype": "text/x-python",
   "name": "python",
   "nbconvert_exporter": "python",
   "pygments_lexer": "ipython3",
   "version": "3.8.16"
  }
 },
 "nbformat": 4,
 "nbformat_minor": 2
}
